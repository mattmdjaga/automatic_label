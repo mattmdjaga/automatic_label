{
 "cells": [
  {
   "cell_type": "code",
   "execution_count": 1,
   "metadata": {},
   "outputs": [
    {
     "name": "stderr",
     "output_type": "stream",
     "text": [
      "/home/mateusz/anaconda3/envs/pons/lib/python3.10/site-packages/tqdm/auto.py:21: TqdmWarning: IProgress not found. Please update jupyter and ipywidgets. See https://ipywidgets.readthedocs.io/en/stable/user_install.html\n",
      "  from .autonotebook import tqdm as notebook_tqdm\n"
     ]
    }
   ],
   "source": [
    "from clip_retrieval.clip_client import ClipClient, Modality\n",
    "from tqdm import tqdm\n",
    "import clip\n",
    "from PIL import Image\n",
    "import torch\n",
    "from matplotlib import pyplot as plt\n",
    "import requests\n",
    "from io import BytesIO\n",
    "import os\n",
    "from collections import defaultdict\n",
    "# Loading the clip retrieval client which is used to search images\n",
    "client = ClipClient(url=\"https://knn.laion.ai/knn-service\", indice_name=\"laion5B-H-14\")"
   ]
  },
  {
   "cell_type": "code",
   "execution_count": 2,
   "metadata": {},
   "outputs": [],
   "source": [
    "items = ['Jewelry', 'Watch', 'Sunglasses', 'Makeup', 'Dress', 'Top', 'Bottoms', 'Swimwear', 'Belt', 'Scarf', 'Gloves', 'Wallet', 'Sunglasses', 'Shoes', 'Handbag', 'Nail polish', 'Hats', 'T-shirt', 'Coat', 'Perfume']\n",
    "brands = ['Oakley', 'Prada', 'Stance', 'Essie', 'Rolex', 'Pottery Barn', 'Hermes', 'Adidas', 'Zara', 'Tag Heuer', 'Michael Kors', 'Uniqlo', 'North Face', \"Levi's\", 'Chanel', 'Forever 21', 'Converse', 'Goorin Bros', 'Nike', 'Cartier', 'Gucci', 'Calvin Klein','Abercrombie & Fitch', 'Maybelline', 'Canada Goose', 'West Elm', 'Patagonia', 'Ray-Ban', 'ASOS', 'Burberry', 'New Era', 'Omega', 'NARS', 'OPI', 'Pandora', 'Sally Hansen', 'Gap', 'IKEA', 'La Perla', 'Hollister', 'Speedo', 'UGG', 'Coach', 'H&M', 'Louis Vuitton', 'The North Face', 'Tiffany & Co.', 'Dior', \"Victoria's Secret\", 'MAC', 'Kate Spade', 'American Eagle', 'Isotoner', 'Billabong']\n",
    "colors = ['red', 'blue', 'green', 'yellow', 'orange', 'purple', 'pink', 'black', 'white', 'grey', 'brown', 'beige', 'gold', 'silver', 'multicolor', 'turquoise', 'maroon', 'lavender', 'teal', 'coral', 'magenta', 'olive', 'navy', 'indigo', 'mustard', 'rust', 'cream', 'lime']\n",
    "full_description = [f\"{color} {brand} {item}\" for item in items for brand in brands for color in colors]\n",
    "full_description = [f\"{brand} {item}\" for item in items for brand in brands]"
   ]
  },
  {
   "cell_type": "code",
   "execution_count": 3,
   "metadata": {},
   "outputs": [
    {
     "data": {
      "text/plain": [
       "'commercial photo of Oakley shoe'"
      ]
     },
     "execution_count": 3,
     "metadata": {},
     "output_type": "execute_result"
    }
   ],
   "source": [
    "items = ['shoe', 'handbag', 'nail polish', 'hat', 't shirt', 'coat','perfume','belt', 'sunglasses', 'watch', 'jewelry', 'scarf', 'gloves', 'wallet', 'makeup']\n",
    "colors = ['red', 'blue', 'green', 'yellow', 'orange', 'purple', 'pink', 'black',\n",
    "                'white', 'grey', 'brown', 'beige', 'gold', 'silver', 'multicolor']\n",
    "\n",
    "full_description = [f\"commercial photo of {color} {item}\" for item in items for color in brands]\n",
    "full_description[0]"
   ]
  },
  {
   "cell_type": "code",
   "execution_count": 6,
   "metadata": {},
   "outputs": [
    {
     "name": "stderr",
     "output_type": "stream",
     "text": [
      "100%|██████████| 580/580 [1:18:13<00:00,  8.09s/it]\n"
     ]
    }
   ],
   "source": [
    "import json\n",
    "from PIL import Image\n",
    "import requests\n",
    "#all_results = [result for result in [client.query(desc) for desc in tqdm(full_description)]]\n",
    "#with open(\"search-results.json\", \"w\") as f:\n",
    "#    json.dump(all_results, f)\n",
    "# above code but in a for loop\n",
    "\n",
    "all_results = []\n",
    "j = 1836\n",
    "for desc in tqdm(full_description[230:]):\n",
    "    for res in client.query(desc)[:10]:\n",
    "        url = res[\"url\"]\n",
    "        try:\n",
    "            img = Image.open(BytesIO(requests.get(url, timeout=5).content))\n",
    "            if img:\n",
    "                img.save(f\"brand_com_images/{j}.jpg\")\n",
    "                j += 1\n",
    "                all_results.append(res)\n",
    "        except:\n",
    "            continue\n",
    "# Load the image urls"
   ]
  },
  {
   "cell_type": "code",
   "execution_count": 7,
   "metadata": {},
   "outputs": [],
   "source": [
    "json.dump(all_results, open(\"bradn_com-results_2.json\", \"w\"))"
   ]
  },
  {
   "cell_type": "code",
   "execution_count": 8,
   "metadata": {},
   "outputs": [],
   "source": [
    "res = client.query(full_description[0])"
   ]
  },
  {
   "cell_type": "code",
   "execution_count": 9,
   "metadata": {},
   "outputs": [
    {
     "data": {
      "text/plain": [
       "[{'caption': 'producto 29 cris&shoes',\n",
       "  'url': 'https://juanbalsa.com/cms/wp-content/uploads/2019/03/producto-29-crisshoes.jpg',\n",
       "  'id': 3004945086,\n",
       "  'similarity': 0.38489463925361633},\n",
       " {'caption': 'Product Photography Course',\n",
       "  'url': 'https://media.skilldeer.com/550x450/fdd92a8b9d76d67de08123f865dfcb020c8c98d3.png',\n",
       "  'id': 717769835,\n",
       "  'similarity': 0.38270333409309387},\n",
       " {'caption': 'How-Product-Photography-Can-Help-an-E-commerce-Brand-Extraordinary',\n",
       "  'url': 'https://tadkahub.com/wp-content/uploads/2021/01/How-Product-Photography-Can-Help-an-E-commerce-Brand-Extraordinary-800x445.jpg',\n",
       "  'id': 1347065229,\n",
       "  'similarity': 0.38155364990234375},\n",
       " {'caption': 'Lliga AFCA 2020 - Color Roig - 08 - Zapatos rojos',\n",
       "  'url': 'https://afcanals.es/wp-content/uploads/2020/07/08-zapatos-rojos-1200-1024x1024.jpg',\n",
       "  'id': 2958049251,\n",
       "  'similarity': 0.3797401487827301},\n",
       " {'caption': 'shoe photography tip white background',\n",
       "  'url': 'https://fixthephoto.com/blog//UserFiles/tip-10-shoe-photography.jpg',\n",
       "  'id': 2025944282,\n",
       "  'similarity': 0.37950217723846436},\n",
       " {'caption': 'Ruby Slippers Photo',\n",
       "  'url': 'https://cloudimages.broadwayworld.com/upload10/406058/tn-500_rpmcbcotr-902.jpg?dt=1495942698ro',\n",
       "  'id': 2056040028,\n",
       "  'similarity': 0.37649306654930115},\n",
       " {'caption': 'product-photography',\n",
       "  'url': 'http://mnphotography.in/wp-content/uploads/2019/04/product-photography-thegem-blog-default-large.jpg',\n",
       "  'id': 365799088,\n",
       "  'similarity': 0.3753635287284851},\n",
       " {'caption': 'Product & Hospitality Photography',\n",
       "  'url': 'https://www.idgbuffalo.com/wp-content/uploads/2018/04/IDG_WebImages_1024x400_Photography-768x300.jpg',\n",
       "  'id': 4753441772,\n",
       "  'similarity': 0.37324589490890503},\n",
       " {'caption': 'PIRLEE high heels',\n",
       "  'url': 'https://cdn3.yoox.biz/cloud/marantwp/uploads/2018/12/SMALL-BANNER-ETOILE.jpg',\n",
       "  'id': 3730967451,\n",
       "  'similarity': 0.37323737144470215},\n",
       " {'caption': 'product photography will complement a good product description',\n",
       "  'url': 'https://www.dovergarden.org/wp-content/uploads/2019/10/iStock-899455256_resize.jpg',\n",
       "  'id': 2133320485,\n",
       "  'similarity': 0.3722531795501709},\n",
       " {'caption': 'scarpe-rubate-sale-violenza-donne',\n",
       "  'url': 'https://www.quibrescia.it/photogallery_new/images/2017/11/scarpe-rubate-sale-violenza-donne-525531.150x113.jpg',\n",
       "  'id': 5152152547,\n",
       "  'similarity': 0.37215229868888855},\n",
       " {'caption': 'ANDRES MACHADO - Damen Pumps - Rot Schuhe in Übergrößen – Bild 2',\n",
       "  'url': 'https://cdn02.plentymarkets.com/gktmgj1gxaa5/item/images/12042/middle/ANDRES-MACHADO-Damen-Pumps-Rot-Schuhe-in-uebergro_1.jpg',\n",
       "  'id': 3809426530,\n",
       "  'similarity': 0.3714052140712738},\n",
       " {'caption': \"california road ladies red stilllife woman reflection abandoned wet loss rain fashion closeup female puddle lost outside shoe sadness daylight women shoes alone highheel highheels loneliness sad unitedstates empty perspective down streetscene solo single ambient lonely females chico void asphalt reds raining sorrow couture emptiness streetscenes uncertain unlucky dejected apparel individual secluded humaninterest precipitation dejection uncertainty storageunit seclusion precipitate women's deject 52weeks lowangleview lowangleviews nikond800e lptg13wk6\",\n",
       "  'url': 'https://live.staticflickr.com/8505/8458786866_743723cd00.jpg',\n",
       "  'id': 918885300,\n",
       "  'similarity': 0.37035617232322693},\n",
       " {'caption': 'Κόκκινα σκαρπίνια με κορδόνια από τηνΆντζελα Ράπτη',\n",
       "  'url': 'https://yourspecialday.gr/wp-content/uploads/2018/04/Angela-Rapti-Wedding-Shoes.jpg',\n",
       "  'id': 2766423374,\n",
       "  'similarity': 0.3703382909297943},\n",
       " {'caption': 'Lật lại lịch sử đôi giày cao gót của nam giới - 15',\n",
       "  'url': 'https://s1.storage.kienthuconline.org/image/2018/06/lat-lai-lich-su-doi-giay-cao-got-cua-nam-gioi-1528610837-5b1cc01556d4f.jpg',\n",
       "  'id': 2914708757,\n",
       "  'similarity': 0.37029650807380676}]"
      ]
     },
     "execution_count": 9,
     "metadata": {},
     "output_type": "execute_result"
    }
   ],
   "source": [
    "res"
   ]
  },
  {
   "cell_type": "code",
   "execution_count": null,
   "metadata": {},
   "outputs": [],
   "source": []
  }
 ],
 "metadata": {
  "kernelspec": {
   "display_name": "pons",
   "language": "python",
   "name": "python3"
  },
  "language_info": {
   "codemirror_mode": {
    "name": "ipython",
    "version": 3
   },
   "file_extension": ".py",
   "mimetype": "text/x-python",
   "name": "python",
   "nbconvert_exporter": "python",
   "pygments_lexer": "ipython3",
   "version": "3.10.10"
  },
  "orig_nbformat": 4
 },
 "nbformat": 4,
 "nbformat_minor": 2
}
