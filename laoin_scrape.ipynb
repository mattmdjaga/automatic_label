{
 "cells": [
  {
   "cell_type": "code",
   "execution_count": 1,
   "metadata": {},
   "outputs": [
    {
     "name": "stderr",
     "output_type": "stream",
     "text": [
      "/home/mateusz/anaconda3/envs/pons/lib/python3.10/site-packages/tqdm/auto.py:21: TqdmWarning: IProgress not found. Please update jupyter and ipywidgets. See https://ipywidgets.readthedocs.io/en/stable/user_install.html\n",
      "  from .autonotebook import tqdm as notebook_tqdm\n"
     ]
    }
   ],
   "source": [
    "from clip_retrieval.clip_client import ClipClient, Modality\n",
    "from tqdm import tqdm\n",
    "import clip\n",
    "from PIL import Image\n",
    "import torch\n",
    "from matplotlib import pyplot as plt\n",
    "import requests\n",
    "from io import BytesIO\n",
    "import os\n",
    "from collections import defaultdict\n",
    "# Loading the clip retrieval client which is used to search images\n",
    "client = ClipClient(url=\"https://knn.laion.ai/knn-service\", indice_name=\"laion5B-H-14\")"
   ]
  },
  {
   "cell_type": "code",
   "execution_count": 2,
   "metadata": {},
   "outputs": [],
   "source": [
    "items = ['Jewelry', 'Watch', 'Sunglasses', 'Makeup', 'Dress', 'Top', 'Bottoms', 'Swimwear', 'Belt', 'Scarf', 'Gloves', 'Wallet', 'Sunglasses', 'Shoes', 'Handbag', 'Nail polish', 'Hats', 'T-shirt', 'Coat', 'Perfume']\n",
    "brands = ['Oakley', 'Prada', 'Stance', 'Essie', 'Rolex', 'Pottery Barn', 'Hermes', 'Adidas', 'Zara', 'Tag Heuer', 'Michael Kors', 'Uniqlo', 'North Face', \"Levi's\", 'Chanel', 'Forever 21', 'Converse', 'Goorin Bros', 'Nike', 'Cartier', 'Gucci', 'Calvin Klein','Abercrombie & Fitch', 'Maybelline', 'Canada Goose', 'West Elm', 'Patagonia', 'Ray-Ban', 'ASOS', 'Burberry', 'New Era', 'Omega', 'NARS', 'OPI', 'Pandora', 'Sally Hansen', 'Gap', 'IKEA', 'La Perla', 'Hollister', 'Speedo', 'UGG', 'Coach', 'H&M', 'Louis Vuitton', 'The North Face', 'Tiffany & Co.', 'Dior', \"Victoria's Secret\", 'MAC', 'Kate Spade', 'American Eagle', 'Isotoner', 'Billabong']\n",
    "colors = ['red', 'blue', 'green', 'yellow', 'orange', 'purple', 'pink', 'black', 'white', 'grey', 'brown', 'beige', 'gold', 'silver', 'multicolor', 'turquoise', 'maroon', 'lavender', 'teal', 'coral', 'magenta', 'olive', 'navy', 'indigo', 'mustard', 'rust', 'cream', 'lime']\n",
    "full_description = [f\"{color} {brand} {item}\" for item in items for brand in brands for color in colors]\n",
    "full_description = [f\"{brand} {item}\" for item in items for brand in brands]"
   ]
  },
  {
   "cell_type": "code",
   "execution_count": 12,
   "metadata": {},
   "outputs": [
    {
     "name": "stderr",
     "output_type": "stream",
     "text": [
      "100%|██████████| 158/158 [46:16<00:00, 17.57s/it]\n"
     ]
    },
    {
     "ename": "FileNotFoundError",
     "evalue": "[Errno 2] No such file or directory: 'search-results_3.json'",
     "output_type": "error",
     "traceback": [
      "\u001b[0;31m---------------------------------------------------------------------------\u001b[0m",
      "\u001b[0;31mFileNotFoundError\u001b[0m                         Traceback (most recent call last)",
      "Cell \u001b[0;32mIn[12], line 23\u001b[0m\n\u001b[1;32m     21\u001b[0m             \u001b[39mcontinue\u001b[39;00m\n\u001b[1;32m     22\u001b[0m \u001b[39m# Load the image urls\u001b[39;00m\n\u001b[0;32m---> 23\u001b[0m \u001b[39mwith\u001b[39;00m \u001b[39mopen\u001b[39;49m(\u001b[39m\"\u001b[39;49m\u001b[39msearch-results_3.json\u001b[39;49m\u001b[39m\"\u001b[39;49m, \u001b[39m\"\u001b[39;49m\u001b[39mr\u001b[39;49m\u001b[39m\"\u001b[39;49m) \u001b[39mas\u001b[39;00m f:\n\u001b[1;32m     24\u001b[0m     all_results \u001b[39m=\u001b[39m json\u001b[39m.\u001b[39mload(f)\n",
      "File \u001b[0;32m~/anaconda3/envs/pons/lib/python3.10/site-packages/IPython/core/interactiveshell.py:282\u001b[0m, in \u001b[0;36m_modified_open\u001b[0;34m(file, *args, **kwargs)\u001b[0m\n\u001b[1;32m    275\u001b[0m \u001b[39mif\u001b[39;00m file \u001b[39min\u001b[39;00m {\u001b[39m0\u001b[39m, \u001b[39m1\u001b[39m, \u001b[39m2\u001b[39m}:\n\u001b[1;32m    276\u001b[0m     \u001b[39mraise\u001b[39;00m \u001b[39mValueError\u001b[39;00m(\n\u001b[1;32m    277\u001b[0m         \u001b[39mf\u001b[39m\u001b[39m\"\u001b[39m\u001b[39mIPython won\u001b[39m\u001b[39m'\u001b[39m\u001b[39mt let you open fd=\u001b[39m\u001b[39m{\u001b[39;00mfile\u001b[39m}\u001b[39;00m\u001b[39m by default \u001b[39m\u001b[39m\"\u001b[39m\n\u001b[1;32m    278\u001b[0m         \u001b[39m\"\u001b[39m\u001b[39mas it is likely to crash IPython. If you know what you are doing, \u001b[39m\u001b[39m\"\u001b[39m\n\u001b[1;32m    279\u001b[0m         \u001b[39m\"\u001b[39m\u001b[39myou can use builtins\u001b[39m\u001b[39m'\u001b[39m\u001b[39m open.\u001b[39m\u001b[39m\"\u001b[39m\n\u001b[1;32m    280\u001b[0m     )\n\u001b[0;32m--> 282\u001b[0m \u001b[39mreturn\u001b[39;00m io_open(file, \u001b[39m*\u001b[39;49margs, \u001b[39m*\u001b[39;49m\u001b[39m*\u001b[39;49mkwargs)\n",
      "\u001b[0;31mFileNotFoundError\u001b[0m: [Errno 2] No such file or directory: 'search-results_3.json'"
     ]
    }
   ],
   "source": [
    "import json\n",
    "from PIL import Image\n",
    "import requests\n",
    "#all_results = [result for result in [client.query(desc) for desc in tqdm(full_description)]]\n",
    "#with open(\"search-results.json\", \"w\") as f:\n",
    "#    json.dump(all_results, f)\n",
    "# above code but in a for loop\n",
    "\n",
    "all_results = [] \n",
    "j = 7400\n",
    "for desc in tqdm(full_description[634+288:]):\n",
    "    for res in client.query(desc)[:10]:\n",
    "        url = res[\"url\"]\n",
    "        try:\n",
    "            img = Image.open(BytesIO(requests.get(url, timeout=5).content))\n",
    "            if img:\n",
    "                img.save(f\"temp_imgs/{j}.jpg\")\n",
    "                j += 1\n",
    "                all_results.append(res)\n",
    "        except:\n",
    "            continue\n",
    "# Load the image urls"
   ]
  },
  {
   "cell_type": "code",
   "execution_count": 13,
   "metadata": {},
   "outputs": [],
   "source": [
    "json.dump(all_results, open(\"search-results_3.json\", \"w\"))"
   ]
  },
  {
   "cell_type": "code",
   "execution_count": null,
   "metadata": {},
   "outputs": [],
   "source": []
  }
 ],
 "metadata": {
  "kernelspec": {
   "display_name": "pons",
   "language": "python",
   "name": "python3"
  },
  "language_info": {
   "codemirror_mode": {
    "name": "ipython",
    "version": 3
   },
   "file_extension": ".py",
   "mimetype": "text/x-python",
   "name": "python",
   "nbconvert_exporter": "python",
   "pygments_lexer": "ipython3",
   "version": "3.10.10"
  },
  "orig_nbformat": 4
 },
 "nbformat": 4,
 "nbformat_minor": 2
}
