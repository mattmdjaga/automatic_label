{
 "cells": [
  {
   "cell_type": "code",
   "execution_count": 1,
   "metadata": {},
   "outputs": [
    {
     "name": "stderr",
     "output_type": "stream",
     "text": [
      "/home/mateusz/anaconda3/envs/pons/lib/python3.10/site-packages/tqdm/auto.py:21: TqdmWarning: IProgress not found. Please update jupyter and ipywidgets. See https://ipywidgets.readthedocs.io/en/stable/user_install.html\n",
      "  from .autonotebook import tqdm as notebook_tqdm\n"
     ]
    }
   ],
   "source": [
    "from clip_retrieval.clip_client import ClipClient, Modality\n",
    "from tqdm import tqdm\n",
    "import clip\n",
    "from PIL import Image\n",
    "import torch\n",
    "from matplotlib import pyplot as plt\n",
    "import requests\n",
    "from io import BytesIO\n",
    "import os\n",
    "from collections import defaultdict\n",
    "# Loading the clip retrieval client which is used to search images\n",
    "client = ClipClient(url=\"https://knn.laion.ai/knn-service\", indice_name=\"laion5B-H-14\")"
   ]
  },
  {
   "cell_type": "code",
   "execution_count": 2,
   "metadata": {},
   "outputs": [],
   "source": [
    "items = ['Jewelry', 'Watch', 'Sunglasses', 'Makeup', 'Dress', 'Top', 'Bottoms', 'Swimwear', 'Belt', 'Scarf', 'Gloves', 'Wallet', 'Sunglasses', 'Shoes', 'Handbag', 'Nail polish', 'Hats', 'T-shirt', 'Coat', 'Perfume']\n",
    "brands = ['Oakley', 'Prada', 'Stance', 'Essie', 'Rolex', 'Pottery Barn', 'Hermes', 'Adidas', 'Zara', 'Tag Heuer', 'Michael Kors', 'Uniqlo', 'North Face', \"Levi's\", 'Chanel', 'Forever 21', 'Converse', 'Goorin Bros', 'Nike', 'Cartier', 'Gucci', 'Calvin Klein','Abercrombie & Fitch', 'Maybelline', 'Canada Goose', 'West Elm', 'Patagonia', 'Ray-Ban', 'ASOS', 'Burberry', 'New Era', 'Omega', 'NARS', 'OPI', 'Pandora', 'Sally Hansen', 'Gap', 'IKEA', 'La Perla', 'Hollister', 'Speedo', 'UGG', 'Coach', 'H&M', 'Louis Vuitton', 'The North Face', 'Tiffany & Co.', 'Dior', \"Victoria's Secret\", 'MAC', 'Kate Spade', 'American Eagle', 'Isotoner', 'Billabong']\n",
    "colors = ['red', 'blue', 'green', 'yellow', 'orange', 'purple', 'pink', 'black', 'white', 'grey', 'brown', 'beige', 'gold', 'silver', 'multicolor', 'turquoise', 'maroon', 'lavender', 'teal', 'coral', 'magenta', 'olive', 'navy', 'indigo', 'mustard', 'rust', 'cream', 'lime']\n",
    "full_description = [f\"{color} {brand} {item}\" for item in items for brand in brands for color in colors]\n",
    "full_description = [f\"{brand} {item}\" for item in items for brand in brands]"
   ]
  },
  {
   "cell_type": "code",
   "execution_count": 12,
   "metadata": {},
   "outputs": [
    {
     "name": "stderr",
     "output_type": "stream",
     "text": [
      "  1%|          | 1/158 [00:35<1:34:06, 35.96s/it]"
     ]
    }
   ],
   "source": [
    "import json\n",
    "from PIL import Image\n",
    "import requests\n",
    "#all_results = [result for result in [client.query(desc) for desc in tqdm(full_description)]]\n",
    "#with open(\"search-results.json\", \"w\") as f:\n",
    "#    json.dump(all_results, f)\n",
    "# above code but in a for loop\n",
    "\n",
    "all_results = [] \n",
    "j = 7400\n",
    "for desc in tqdm(full_description[634+288:]):\n",
    "    for res in client.query(desc)[:10]:\n",
    "        url = res[\"url\"]\n",
    "        try:\n",
    "            img = Image.open(BytesIO(requests.get(url, timeout=5).content))\n",
    "            if img:\n",
    "                img.save(f\"temp_imgs/{j}.jpg\")\n",
    "                j += 1\n",
    "                all_results.append(res)\n",
    "        except:\n",
    "            continue\n",
    "# Load the image urls\n",
    "with open(\"search-results_3.json\", \"r\") as f:\n",
    "    all_results = json.load(f)"
   ]
  },
  {
   "cell_type": "code",
   "execution_count": 9,
   "metadata": {},
   "outputs": [],
   "source": [
    "json.dump(all_results, open(\"search-results_2.json\", \"w\"))"
   ]
  }
 ],
 "metadata": {
  "kernelspec": {
   "display_name": "pons",
   "language": "python",
   "name": "python3"
  },
  "language_info": {
   "codemirror_mode": {
    "name": "ipython",
    "version": 3
   },
   "file_extension": ".py",
   "mimetype": "text/x-python",
   "name": "python",
   "nbconvert_exporter": "python",
   "pygments_lexer": "ipython3",
   "version": "3.10.10"
  },
  "orig_nbformat": 4
 },
 "nbformat": 4,
 "nbformat_minor": 2
}
